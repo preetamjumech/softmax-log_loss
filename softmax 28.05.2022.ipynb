{
 "cells": [
  {
   "cell_type": "code",
   "execution_count": 10,
   "id": "c3325057",
   "metadata": {},
   "outputs": [],
   "source": [
    "import numpy as np\n",
    "np.set_printoptions(suppress=True)"
   ]
  },
  {
   "cell_type": "code",
   "execution_count": 23,
   "id": "e94c8dbf",
   "metadata": {},
   "outputs": [],
   "source": [
    "X_input = np.array([23,10,7,56,11])"
   ]
  },
  {
   "cell_type": "code",
   "execution_count": 24,
   "id": "22a74368",
   "metadata": {},
   "outputs": [
    {
     "data": {
      "text/plain": [
       "array([23, 10,  7, 56, 11])"
      ]
     },
     "execution_count": 24,
     "metadata": {},
     "output_type": "execute_result"
    }
   ],
   "source": [
    "X_input"
   ]
  },
  {
   "cell_type": "code",
   "execution_count": 25,
   "id": "37c2fe13",
   "metadata": {},
   "outputs": [
    {
     "name": "stdout",
     "output_type": "stream",
     "text": [
      "[9.74480345e+09 2.20264658e+04 1.09663316e+03 2.09165950e+24\n",
      " 5.98741417e+04]\n"
     ]
    }
   ],
   "source": [
    "numerator = np.exp(X_input)\n",
    "print(numerator)"
   ]
  },
  {
   "cell_type": "code",
   "execution_count": 26,
   "id": "481c0d68",
   "metadata": {},
   "outputs": [],
   "source": [
    "denominator = np.sum(np.exp(X_input))"
   ]
  },
  {
   "cell_type": "code",
   "execution_count": 27,
   "id": "34a46912",
   "metadata": {},
   "outputs": [],
   "source": [
    "softmax_output = numerator/denominator"
   ]
  },
  {
   "cell_type": "code",
   "execution_count": 28,
   "id": "c51e5b7a",
   "metadata": {},
   "outputs": [
    {
     "data": {
      "text/plain": [
       "array([0., 0., 0., 1., 0.])"
      ]
     },
     "execution_count": 28,
     "metadata": {},
     "output_type": "execute_result"
    }
   ],
   "source": [
    "softmax_output"
   ]
  },
  {
   "cell_type": "code",
   "execution_count": 29,
   "id": "05aac743",
   "metadata": {},
   "outputs": [
    {
     "data": {
      "text/plain": [
       "3"
      ]
     },
     "execution_count": 29,
     "metadata": {},
     "output_type": "execute_result"
    }
   ],
   "source": [
    "np.argmax(softmax_output)"
   ]
  },
  {
   "cell_type": "code",
   "execution_count": null,
   "id": "4f1e3d64",
   "metadata": {},
   "outputs": [],
   "source": []
  }
 ],
 "metadata": {
  "kernelspec": {
   "display_name": "Python 3",
   "language": "python",
   "name": "python3"
  },
  "language_info": {
   "codemirror_mode": {
    "name": "ipython",
    "version": 3
   },
   "file_extension": ".py",
   "mimetype": "text/x-python",
   "name": "python",
   "nbconvert_exporter": "python",
   "pygments_lexer": "ipython3",
   "version": "3.8.8"
  }
 },
 "nbformat": 4,
 "nbformat_minor": 5
}
